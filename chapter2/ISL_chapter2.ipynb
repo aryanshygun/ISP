{
 "cells": [
  {
   "cell_type": "code",
   "execution_count": 1,
   "id": "0787992a-0622-40fa-86e1-42399f07489c",
   "metadata": {},
   "outputs": [],
   "source": [
    "import numpy as np"
   ]
  },
  {
   "cell_type": "code",
   "execution_count": 3,
   "id": "97de3564-4b14-4edc-ba05-24bf9cc80953",
   "metadata": {},
   "outputs": [
    {
     "name": "stdout",
     "output_type": "stream",
     "text": [
      "[ 7 13 12]\n"
     ]
    }
   ],
   "source": [
    "x = np.array([3,4,5])\n",
    "y = np.array([4,9,7])\n",
    "# treats them as matrices\n",
    "print(x + y)"
   ]
  },
  {
   "cell_type": "code",
   "execution_count": 4,
   "id": "474dee7a-3005-45a7-9eae-7995b23f09af",
   "metadata": {},
   "outputs": [
    {
     "name": "stdout",
     "output_type": "stream",
     "text": [
      "[[1 2]\n",
      " [3 4]]\n"
     ]
    }
   ],
   "source": [
    "x = np.array([[1,2],[3,4]])\n",
    "# follows the structure\n",
    "print(x)"
   ]
  },
  {
   "cell_type": "code",
   "execution_count": 5,
   "id": "65599b75-b0e1-456d-a027-8b59b17263e9",
   "metadata": {},
   "outputs": [
    {
     "name": "stdout",
     "output_type": "stream",
     "text": [
      "2\n"
     ]
    }
   ],
   "source": [
    "# shows the number of dimensions\n",
    "print(x.ndim)"
   ]
  },
  {
   "cell_type": "code",
   "execution_count": 6,
   "id": "94f09f23-bff4-4bf9-837a-cf12e9bd953d",
   "metadata": {},
   "outputs": [
    {
     "name": "stdout",
     "output_type": "stream",
     "text": [
      "int64\n",
      "int64\n"
     ]
    }
   ],
   "source": [
    "# shows the type\n",
    "print(x.dtype)\n",
    "z = np.array([[1 , 2],[42,53],[54,2]])\n",
    "print(z.dtype)"
   ]
  },
  {
   "cell_type": "code",
   "execution_count": 7,
   "id": "4d8d6e03-3980-4df4-92dd-a16ee33afcaa",
   "metadata": {},
   "outputs": [
    {
     "name": "stdout",
     "output_type": "stream",
     "text": [
      "(3, 2)\n"
     ]
    }
   ],
   "source": [
    "# shows the number of rows and columns\n",
    "print(z.shape)"
   ]
  },
  {
   "cell_type": "code",
   "execution_count": 8,
   "id": "1dd9ea04-3a8c-4124-a7aa-dc0b6b319b74",
   "metadata": {},
   "outputs": [
    {
     "data": {
      "text/plain": [
       "array([[ 1,  2],\n",
       "       [42, 53],\n",
       "       [54,  2]])"
      ]
     },
     "execution_count": 8,
     "metadata": {},
     "output_type": "execute_result"
    }
   ],
   "source": [
    "# dont need to use print here\n",
    "z"
   ]
  },
  {
   "cell_type": "code",
   "execution_count": 9,
   "id": "25cd47d3-0a87-4fc5-8471-0444e6c5c00b",
   "metadata": {},
   "outputs": [
    {
     "name": "stdout",
     "output_type": "stream",
     "text": [
      "[[ 1  2 42]\n",
      " [53 54  2]]\n",
      "\n",
      "[[ 1  2 42 53 54  2]]\n"
     ]
    }
   ],
   "source": [
    "# reshapes the data as long as it fits\n",
    "print(z.reshape(2,3))\n",
    "print()\n",
    "print(z.reshape(1,6))"
   ]
  },
  {
   "cell_type": "code",
   "execution_count": 10,
   "id": "0c954206-e2a0-446d-a66f-bb31e6df3306",
   "metadata": {},
   "outputs": [
    {
     "name": "stdout",
     "output_type": "stream",
     "text": [
      "[[ 1  2]\n",
      " [42 53]\n",
      " [54  2]]\n",
      "\n",
      "[[ 1 42 54]\n",
      " [ 2 53  2]]\n"
     ]
    }
   ],
   "source": [
    "# swaps the rows and cols aka transpose\n",
    "print(z)\n",
    "print()\n",
    "print(z.T)"
   ]
  },
  {
   "cell_type": "code",
   "execution_count": null,
   "id": "e039c19f-179a-4166-8baf-5432ad3b6ace",
   "metadata": {},
   "outputs": [],
   "source": [
    "# generates the square root of the entries\n",
    "np.sqrt(z)\n",
    "# or x**0.5"
   ]
  },
  {
   "cell_type": "code",
   "execution_count": null,
   "id": "fd3b43e1-533d-4f53-b918-8bfe377efee0",
   "metadata": {},
   "outputs": [],
   "source": [
    "# generates the square of the elements\n",
    "z**2"
   ]
  },
  {
   "cell_type": "code",
   "execution_count": null,
   "id": "89e9a4d1-f63c-4518-9d77-f7c10594058b",
   "metadata": {},
   "outputs": [],
   "source": [
    "# generates a single random number\n",
    "np.random.normal?"
   ]
  },
  {
   "cell_type": "code",
   "execution_count": null,
   "id": "1a7e20ad-ad8b-407f-876c-a6bc53b6bb7d",
   "metadata": {},
   "outputs": [],
   "source": [
    "# generates a 1 row matrix with 50 datapoints\n",
    "x = np.random.normal(size = 50)\n",
    "x"
   ]
  },
  {
   "cell_type": "code",
   "execution_count": null,
   "id": "bf44c157-1745-43d0-8f99-016f81ad0c56",
   "metadata": {},
   "outputs": [],
   "source": [
    "# if given loc, it generates noise from that loc 50\n",
    "y = x + np.random.normal(loc=50,scale=1, size=50)\n",
    "y"
   ]
  },
  {
   "cell_type": "code",
   "execution_count": null,
   "id": "c19e27d8-a013-4d33-888b-3e30b0774ada",
   "metadata": {
    "editable": true,
    "slideshow": {
     "slide_type": ""
    },
    "tags": []
   },
   "outputs": [],
   "source": [
    "# the off-diagnol element shows and computes the correlation coefficient matrix between x and y.\n",
    "\n",
    "np.corrcoef(x,y)"
   ]
  }
 ],
 "metadata": {
  "kernelspec": {
   "display_name": "myenv",
   "language": "python",
   "name": "python3"
  },
  "language_info": {
   "codemirror_mode": {
    "name": "ipython",
    "version": 3
   },
   "file_extension": ".py",
   "mimetype": "text/x-python",
   "name": "python",
   "nbconvert_exporter": "python",
   "pygments_lexer": "ipython3",
   "version": "3.12.7"
  }
 },
 "nbformat": 4,
 "nbformat_minor": 5
}
